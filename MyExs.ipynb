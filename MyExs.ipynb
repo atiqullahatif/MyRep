{
 "cells": [
  {
   "cell_type": "code",
   "execution_count": 5,
   "metadata": {},
   "outputs": [],
   "source": [
    "# ex1. Write a Python function that takes a list of words and returns the length of the longest one.\n",
    "def get_longest_word(My_words):\n",
    "    max_len = 0\n",
    "    for word in My_words:\n",
    "        if len(word) > max_len:\n",
    "            max_len = len(word)\n",
    "            result = word\n",
    "    \n",
    "    return max_len, result"
   ]
  },
  {
   "cell_type": "code",
   "execution_count": 6,
   "metadata": {},
   "outputs": [
    {
     "data": {
      "text/plain": [
       "(9, 'Atiqullah')"
      ]
     },
     "execution_count": 6,
     "metadata": {},
     "output_type": "execute_result"
    }
   ],
   "source": [
    "get_longest_word(['Atiqullah', 'Hammad', 'Atif'])"
   ]
  },
  {
   "cell_type": "code",
   "execution_count": 7,
   "metadata": {},
   "outputs": [
    {
     "data": {
      "text/plain": [
       "8"
      ]
     },
     "execution_count": 7,
     "metadata": {},
     "output_type": "execute_result"
    }
   ],
   "source": [
    "#ex2. Write a Python program to count the number of characters in a string.\n",
    "def count_char(string):\n",
    "    return len(set(list(string)))\n",
    "\n",
    "count_char('atiqullahatif')"
   ]
  },
  {
   "cell_type": "code",
   "execution_count": 16,
   "metadata": {},
   "outputs": [
    {
     "data": {
      "text/plain": [
       "{'exam4': 8, 'exam2': 10, 'exam1': 12}"
      ]
     },
     "execution_count": 16,
     "metadata": {},
     "output_type": "execute_result"
    }
   ],
   "source": [
    "# ex3. Write a Python program to sort (ascending and descending) a dictionary by value.\n",
    "\n",
    "def sort_dict_value(dictionary):\n",
    "    # construct a new dict of inverse keys and values\n",
    "    inverse_dict = dict()\n",
    "    for k in dictionary:\n",
    "        inverse_dict[dictionary[k]] = k\n",
    "    \n",
    "    dictionary_values = list(dictionary.values())\n",
    "    dictionary_values.sort()\n",
    "    \n",
    "    sorted_dict = dict()\n",
    "    for v in dictionary_values:\n",
    "        sorted_dict[inverse_dict[v]] = v\n",
    "\n",
    "    return sorted_dict\n",
    "\n",
    "sort_dict_value({'exam1': 12, 'exam2': 10, 'exam3': 8, 'exam4': 8})"
   ]
  },
  {
   "cell_type": "code",
   "execution_count": 17,
   "metadata": {},
   "outputs": [
    {
     "data": {
      "text/plain": [
       "{'exam3': 8, 'exam4': 8, 'exam2': 10, 'exam1': 12}"
      ]
     },
     "execution_count": 17,
     "metadata": {},
     "output_type": "execute_result"
    }
   ],
   "source": [
    "def sort_dict_duplicate_value(dictionary):\n",
    "    \n",
    "    keys = list(dictionary.keys())\n",
    "    sorted_keys = [keys[0]]\n",
    "    \n",
    "    for k in keys[1:]:\n",
    "        v = dictionary[k]\n",
    "        for i, sk in enumerate(sorted_keys.copy()):\n",
    "            sv = dictionary[sk]\n",
    "            inserted = False\n",
    "            if v < sv and not inserted:\n",
    "                sorted_keys.insert(i, k)\n",
    "                inserted = True\n",
    "            elif i == len(sorted_keys) - 1 and v >= sv:\n",
    "                sorted_keys.append(k)\n",
    "    \n",
    "    sorted_dict = dict()            \n",
    "    for k in sorted_keys:\n",
    "        sorted_dict[k] = dictionary[k]\n",
    "\n",
    "    return sorted_dict\n",
    "\n",
    "sort_dict_duplicate_value({'exam1': 12, 'exam2': 10, 'exam3': 8, 'exam4': 8})"
   ]
  },
  {
   "cell_type": "code",
   "execution_count": 18,
   "metadata": {},
   "outputs": [
    {
     "name": "stdout",
     "output_type": "stream",
     "text": [
      "3.27 µs ± 30 ns per loop (mean ± std. dev. of 7 runs, 100000 loops each)\n",
      "7.72 µs ± 184 ns per loop (mean ± std. dev. of 7 runs, 100000 loops each)\n"
     ]
    }
   ],
   "source": [
    "%timeit sort_dict_value({'exam1': 12, 'exam2': 10, 'exam3': 8, 'exam4': 8})\n",
    "%timeit sort_dict_duplicate_value({'exam1': 12, 'exam2': 10, 'exam3': 8, 'exam4': 8})"
   ]
  },
  {
   "cell_type": "code",
   "execution_count": 21,
   "metadata": {},
   "outputs": [
    {
     "data": {
      "text/plain": [
       "'B follows A'"
      ]
     },
     "execution_count": 21,
     "metadata": {},
     "output_type": "execute_result"
    }
   ],
   "source": [
    "# ex4. Write a Python program to change a given string to a new string where the first and last chars have been exchanged.\n",
    "def exhange_string_first_and_last(string):\n",
    "    return string[-1] + string[1:-1] + string[0]\n",
    "\n",
    "exhange_string_first_and_last('A follows B')"
   ]
  },
  {
   "cell_type": "code",
   "execution_count": 23,
   "metadata": {},
   "outputs": [
    {
     "data": {
      "text/plain": [
       "True"
      ]
     },
     "execution_count": 23,
     "metadata": {},
     "output_type": "execute_result"
    }
   ],
   "source": [
    "# ex5. Write a Python function that takes two lists and returns True if they have at least one common member.\n",
    "\n",
    "def common_item(list1, list2):\n",
    "    result = False\n",
    "    for l1 in list1:\n",
    "        for l2 in list2:\n",
    "            if l1 == l2:\n",
    "                result = True\n",
    "                break\n",
    "    return result\n",
    "common_item([2, 3, 5], [8, 7, 5])"
   ]
  },
  {
   "cell_type": "code",
   "execution_count": 25,
   "metadata": {},
   "outputs": [
    {
     "data": {
      "text/plain": [
       "[3, 3, 1, 2]"
      ]
     },
     "execution_count": 25,
     "metadata": {},
     "output_type": "execute_result"
    }
   ],
   "source": [
    "# ex6. Write a Python function that return the minimum number of coins ($0.01, $0.1, $0.25, $1) that make a given value.\n",
    "def coin_changes(val):\n",
    "    # convert to cent unit\n",
    "    coins = [100, 25, 10, 1]\n",
    "    val = int(val * 100)\n",
    "    coins_number = []\n",
    "    for c in coins:\n",
    "        n = val // c\n",
    "        coins_number.append(n)\n",
    "        val -= n * c\n",
    "    return coins_number\n",
    "coin_changes(3.87)"
   ]
  }
 ],
 "metadata": {
  "kernelspec": {
   "display_name": "Python 3",
   "language": "python",
   "name": "python3"
  },
  "language_info": {
   "codemirror_mode": {
    "name": "ipython",
    "version": 3
   },
   "file_extension": ".py",
   "mimetype": "text/x-python",
   "name": "python",
   "nbconvert_exporter": "python",
   "pygments_lexer": "ipython3",
   "version": "3.7.4"
  }
 },
 "nbformat": 4,
 "nbformat_minor": 2
}
